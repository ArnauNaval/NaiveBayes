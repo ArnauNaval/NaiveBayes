{
 "cells": [
  {
   "cell_type": "markdown",
   "metadata": {},
   "source": [
    "# Naive Bayes and Classification\n"
   ]
  },
  {
   "cell_type": "markdown",
   "metadata": {},
   "source": [
    "Developing a statistic Naive Bayes classifier in order to identify to which political party belongs each tweet"
   ]
  },
  {
   "cell_type": "markdown",
   "metadata": {},
   "source": [
    "Importing data"
   ]
  },
  {
   "cell_type": "code",
   "execution_count": 1,
   "metadata": {},
   "outputs": [],
   "source": [
    "import pandas as pd\n",
    "import numpy as np"
   ]
  },
  {
   "cell_type": "code",
   "execution_count": 2,
   "metadata": {},
   "outputs": [],
   "source": [
    "import zipfile\n",
    "import pickle\n",
    "from os.path import join, dirname\n",
    "\n",
    "def locate(*path):\n",
    "    base = globals().get('__file__', '.')\n",
    "    return join(dirname(base), *path)\n",
    "\n",
    "try:\n",
    "    from IPython.core.display import HTML\n",
    "\n",
    "    def pprint(df):\n",
    "        with pd.option_context('display.max_rows', None, 'display.max_columns', None):\n",
    "            display(HTML(pd.DataFrame(df).to_html()))\n",
    "except:\n",
    "    def pprint(df):\n",
    "        print(df)"
   ]
  },
  {
   "cell_type": "code",
   "execution_count": 3,
   "metadata": {},
   "outputs": [
    {
     "name": "stdout",
     "output_type": "stream",
     "text": [
      "Training data\n"
     ]
    },
    {
     "data": {
      "text/html": [
       "<table border=\"1\" class=\"dataframe\">\n",
       "  <thead>\n",
       "    <tr style=\"text-align: right;\">\n",
       "      <th></th>\n",
       "      <th>username</th>\n",
       "      <th>party</th>\n",
       "      <th>text</th>\n",
       "      <th>created_at</th>\n",
       "      <th>retweet_count</th>\n",
       "      <th>favorite_count</th>\n",
       "    </tr>\n",
       "    <tr>\n",
       "      <th>Id</th>\n",
       "      <th></th>\n",
       "      <th></th>\n",
       "      <th></th>\n",
       "      <th></th>\n",
       "      <th></th>\n",
       "      <th></th>\n",
       "    </tr>\n",
       "  </thead>\n",
       "  <tbody>\n",
       "    <tr>\n",
       "      <th>0</th>\n",
       "      <td>martarovira</td>\n",
       "      <td>erc</td>\n",
       "      <td>Últim acte de campanya! Aquí tossudament alçat...</td>\n",
       "      <td>2017-12-19 20:12:01</td>\n",
       "      <td>785</td>\n",
       "      <td>2295</td>\n",
       "    </tr>\n",
       "    <tr>\n",
       "      <th>1</th>\n",
       "      <td>xavierdomenechs</td>\n",
       "      <td>comuns</td>\n",
       "      <td>#Badalona necessita uns pressupostos que posin...</td>\n",
       "      <td>2018-04-27 10:04:19</td>\n",
       "      <td>55</td>\n",
       "      <td>93</td>\n",
       "    </tr>\n",
       "    <tr>\n",
       "      <th>2</th>\n",
       "      <td>albert_rivera</td>\n",
       "      <td>cs</td>\n",
       "      <td>Encuentro Villacís-Valls para lanzar una estra...</td>\n",
       "      <td>2018-11-17 20:34:58</td>\n",
       "      <td>357</td>\n",
       "      <td>622</td>\n",
       "    </tr>\n",
       "    <tr>\n",
       "      <th>3</th>\n",
       "      <td>jaumecollboni</td>\n",
       "      <td>psc</td>\n",
       "      <td>“La palabra es como una bala, no tiene retorno...</td>\n",
       "      <td>2018-10-22 18:10:01</td>\n",
       "      <td>4</td>\n",
       "      <td>6</td>\n",
       "    </tr>\n",
       "    <tr>\n",
       "      <th>4</th>\n",
       "      <td>albiol_xg</td>\n",
       "      <td>ppc</td>\n",
       "      <td>📻 Esta noche, a partir de las 22:10h, me entre...</td>\n",
       "      <td>2018-08-16 10:30:27</td>\n",
       "      <td>20</td>\n",
       "      <td>47</td>\n",
       "    </tr>\n",
       "  </tbody>\n",
       "</table>"
      ],
      "text/plain": [
       "<IPython.core.display.HTML object>"
      ]
     },
     "metadata": {},
     "output_type": "display_data"
    },
    {
     "name": "stdout",
     "output_type": "stream",
     "text": [
      "(1920, 6)\n"
     ]
    },
    {
     "data": {
      "text/html": [
       "<table border=\"1\" class=\"dataframe\">\n",
       "  <thead>\n",
       "    <tr style=\"text-align: right;\">\n",
       "      <th></th>\n",
       "      <th>text</th>\n",
       "      <th>retweet_count</th>\n",
       "      <th>favorite_count</th>\n",
       "    </tr>\n",
       "    <tr>\n",
       "      <th>Id</th>\n",
       "      <th></th>\n",
       "      <th></th>\n",
       "      <th></th>\n",
       "    </tr>\n",
       "  </thead>\n",
       "  <tbody>\n",
       "    <tr>\n",
       "      <th>0</th>\n",
       "      <td>Avui hem représ la Comissió Mixta amb el @gove...</td>\n",
       "      <td>67</td>\n",
       "      <td>103</td>\n",
       "    </tr>\n",
       "    <tr>\n",
       "      <th>1</th>\n",
       "      <td>Torra anunció un \"otoño caliente\" para aumenta...</td>\n",
       "      <td>856</td>\n",
       "      <td>1501</td>\n",
       "    </tr>\n",
       "    <tr>\n",
       "      <th>2</th>\n",
       "      <td>Demà cal sortir als carrers per dir que #Barce...</td>\n",
       "      <td>144</td>\n",
       "      <td>174</td>\n",
       "    </tr>\n",
       "    <tr>\n",
       "      <th>3</th>\n",
       "      <td>“Cercàvem or i vam baixar a la mina.\\nI la fos...</td>\n",
       "      <td>338</td>\n",
       "      <td>1560</td>\n",
       "    </tr>\n",
       "    <tr>\n",
       "      <th>4</th>\n",
       "      <td>Molt senzill d'entendre, companya: \\n1.- L'ALL...</td>\n",
       "      <td>4932</td>\n",
       "      <td>7253</td>\n",
       "    </tr>\n",
       "  </tbody>\n",
       "</table>"
      ],
      "text/plain": [
       "<IPython.core.display.HTML object>"
      ]
     },
     "metadata": {},
     "output_type": "display_data"
    },
    {
     "name": "stdout",
     "output_type": "stream",
     "text": [
      "(480, 3)\n"
     ]
    }
   ],
   "source": [
    "if __name__ == '__main__':\n",
    "    print('Training data')\n",
    "    df_tweets_train = pd.read_excel(locate('data', 'train.xlsx'), index_col='Id')\n",
    "    pprint(df_tweets_train.head())\n",
    "    print(df_tweets_train.shape)\n",
    "    \n",
    "    df_tweets_test = pd.read_excel(locate('data', 'test.xlsx'), index_col='Id')\n",
    "    pprint(df_tweets_test.head())\n",
    "    print(df_tweets_test.shape)"
   ]
  },
  {
   "cell_type": "markdown",
   "metadata": {},
   "source": [
    "### Data analysis\n",
    "\n"
   ]
  },
  {
   "cell_type": "code",
   "execution_count": 6,
   "metadata": {},
   "outputs": [],
   "source": [
    "def count_tweets(df):\n",
    "    \"\"\"\n",
    "    Number of tweets in the dataframe\n",
    "    \"\"\"\n",
    "    return len(df)\n",
    "\n",
    "def get_politicians(df):\n",
    "    \"\"\"\n",
    "    Username of each politician that have tweeted\n",
    "    \"\"\"\n",
    "    return df['username'].unique().tolist()\n",
    "\n",
    "def count_politicians(df):\n",
    "    \"\"\"\n",
    "    Amount of politicians\n",
    "    \"\"\"\n",
    "    return len(get_politicians(df))\n",
    "\n",
    "def get_political_party(df):\n",
    "    \"\"\"\n",
    "    Political parties that have tweeted\n",
    "    \"\"\"\n",
    "    return df['party'].unique().tolist()\n",
    "\n",
    "def count_political_party(df):\n",
    "    \"\"\"\n",
    "    Amount of political parties\n",
    "    \"\"\"\n",
    "    return len(get_political_party(df))\n",
    "\n",
    "def count_tweet_politician(df):\n",
    "    \"\"\"\n",
    "    Amount of tweets per politician\n",
    "    \"\"\"\n",
    "    return df.groupby(['username'])['text'].count()\n",
    "\n",
    "def count_tweet_party(df):\n",
    "    \"\"\"\n",
    "    Amount of tweets per political party\n",
    "    \"\"\"\n",
    "    return df.groupby(['party'])['text'].count()\n",
    "\n",
    "def top_retweet(df, n):\n",
    "    \"\"\"\n",
    "    N tweets more retweeted\n",
    "    \"\"\"\n",
    "    return df.nlargest(n, 'retweet_count')['text']\n",
    "    \n",
    "def top_favorite(df, n):\n",
    "    \"\"\"\n",
    "    Favourited tweets\n",
    "    \"\"\"\n",
    "    return df.nlargest(n, 'favorite_count')['text']"
   ]
  },
  {
   "cell_type": "code",
   "execution_count": 7,
   "metadata": {},
   "outputs": [
    {
     "name": "stdout",
     "output_type": "stream",
     "text": [
      "1920\n",
      "['martarovira', 'xavierdomenechs', 'albert_rivera', 'jaumecollboni', 'albiol_xg', 'miqueliceta', 'quimtorraipla', 'adacolau', 'santirodriguez', 'krls', 'joantarda', 'inesarrimadas'] 12\n",
      "['erc', 'comuns', 'cs', 'psc', 'ppc', 'jxcat'] 6\n"
     ]
    },
    {
     "data": {
      "image/png": "[encoded data removed]",
      "text/plain": [
       "<Figure size 432x288 with 1 Axes>"
      ]
     },
     "metadata": {},
     "output_type": "display_data"
    },
    {
     "data": {
      "image/png": "[encoded data removed]",
      "text/plain": [
       "<Figure size 432x288 with 1 Axes>"
      ]
     },
     "metadata": {},
     "output_type": "display_data"
    },
    {
     "data": {
      "text/html": [
       "<table border=\"1\" class=\"dataframe\">\n",
       "  <thead>\n",
       "    <tr style=\"text-align: right;\">\n",
       "      <th></th>\n",
       "      <th>text</th>\n",
       "    </tr>\n",
       "    <tr>\n",
       "      <th>Id</th>\n",
       "      <th></th>\n",
       "    </tr>\n",
       "  </thead>\n",
       "  <tbody>\n",
       "    <tr>\n",
       "      <th>907</th>\n",
       "      <td>Que una republicana defienda la República es b...</td>\n",
       "    </tr>\n",
       "    <tr>\n",
       "      <th>781</th>\n",
       "      <td>A tots els demòcrates: no pararem fins que tor...</td>\n",
       "    </tr>\n",
       "    <tr>\n",
       "      <th>138</th>\n",
       "      <td>Una causa que necessiti ser defensada amb cúte...</td>\n",
       "    </tr>\n",
       "    <tr>\n",
       "      <th>1664</th>\n",
       "      <td>.@junqueras President d'un partit amb 86 anys ...</td>\n",
       "    </tr>\n",
       "    <tr>\n",
       "      <th>1515</th>\n",
       "      <td>Perdoneu, però això és tan greu que si no hi h...</td>\n",
       "    </tr>\n",
       "  </tbody>\n",
       "</table>"
      ],
      "text/plain": [
       "<IPython.core.display.HTML object>"
      ]
     },
     "metadata": {},
     "output_type": "display_data"
    },
    {
     "data": {
      "text/html": [
       "<table border=\"1\" class=\"dataframe\">\n",
       "  <thead>\n",
       "    <tr style=\"text-align: right;\">\n",
       "      <th></th>\n",
       "      <th>text</th>\n",
       "    </tr>\n",
       "    <tr>\n",
       "      <th>Id</th>\n",
       "      <th></th>\n",
       "    </tr>\n",
       "  </thead>\n",
       "  <tbody>\n",
       "    <tr>\n",
       "      <th>907</th>\n",
       "      <td>Que una republicana defienda la República es b...</td>\n",
       "    </tr>\n",
       "    <tr>\n",
       "      <th>138</th>\n",
       "      <td>Una causa que necessiti ser defensada amb cúte...</td>\n",
       "    </tr>\n",
       "    <tr>\n",
       "      <th>174</th>\n",
       "      <td>Acabo d'arribar a #Escòcia convidat pel Fòrum ...</td>\n",
       "    </tr>\n",
       "    <tr>\n",
       "      <th>781</th>\n",
       "      <td>A tots els demòcrates: no pararem fins que tor...</td>\n",
       "    </tr>\n",
       "    <tr>\n",
       "      <th>1043</th>\n",
       "      <td>Una gran #Diada2018 per avançar cap a la repúb...</td>\n",
       "    </tr>\n",
       "  </tbody>\n",
       "</table>"
      ],
      "text/plain": [
       "<IPython.core.display.HTML object>"
      ]
     },
     "metadata": {},
     "output_type": "display_data"
    }
   ],
   "source": [
    "if __name__ == '__main__':\n",
    "    import matplotlib.pyplot as plt\n",
    "    %matplotlib inline\n",
    "    \n",
    "    print(count_tweets(df_tweets_train))\n",
    "    print(get_politicians(df_tweets_train), count_politicians(df_tweets_train))\n",
    "    print(get_political_party(df_tweets_train), count_political_party(df_tweets_train))\n",
    "    \n",
    "    count_tweet_politician(df_tweets_train).plot.bar()\n",
    "    plt.show()\n",
    "    \n",
    "    count_tweet_party(df_tweets_train).plot.bar()\n",
    "    plt.show()\n",
    "    \n",
    "    pprint(top_retweet(df_tweets_train, 5))\n",
    "    pprint(top_favorite(df_tweets_train, 5))"
   ]
  },
  {
   "cell_type": "markdown",
   "metadata": {},
   "source": [
    "Normalize each word:"
   ]
  },
  {
   "cell_type": "code",
   "execution_count": 6,
   "metadata": {},
   "outputs": [],
   "source": [
    "def memo(f):\n",
    "    class memodict(dict):\n",
    "        def __init__(self, f):\n",
    "            self.f = f\n",
    "        def __call__(self, *args):\n",
    "            return self[args]\n",
    "        def __missing__(self, key):\n",
    "            ret = self[key] = self.f(*key)\n",
    "            return ret\n",
    "    return memodict(f)"
   ]
  },
  {
   "cell_type": "code",
   "execution_count": 7,
   "metadata": {},
   "outputs": [],
   "source": [
    "import unidecode\n",
    "@memo\n",
    "def normalize(word):\n",
    "    \"\"\"\n",
    "    Exemple: Taller DELS noUS USOS ---> tallers dels nous usos\n",
    "\n",
    "    \"\"\"    \n",
    "    \n",
    "    normalized = unidecode.unidecode(word)\n",
    "    normalized = word\n",
    "    \n",
    "    normalized = [c for c in normalized if (65 <= ord(c) <= 90) or (97 <= ord(c) <= 122)]\n",
    "    \n",
    "    normalized = '' .join(normalized).lower()\n",
    "    \n",
    "    return normalized"
   ]
  },
  {
   "cell_type": "code",
   "execution_count": 8,
   "metadata": {
    "scrolled": true
   },
   "outputs": [],
   "source": [
    "def count_words(df):\n",
    "    \"\"\"\n",
    "    Dictionary with each word and saving the count of the word and the count of tweets with the word\n",
    "\n",
    "    \"\"\"\n",
    "    dicc = {}\n",
    "    \n",
    "    for s in df['text']:\n",
    "        \n",
    "        paraules = s.split(\" \")\n",
    "        \n",
    "        for word in paraules:\n",
    "            \n",
    "            tmp = normalize(word)\n",
    "            \n",
    "            llista = []\n",
    "            \n",
    "            if word not in dicc.keys(): \n",
    "                dicc[tmp] = {'n_ocur':0, 'n_tweets':0}\n",
    "                \n",
    "            clau = dicc[tmp]\n",
    "            clau['n_ocur'] = clau['n_ocur']+1\n",
    "\n",
    "            if word not in llista:\n",
    "                clau['n_tweets'] = clau['n_tweets']+1\n",
    "                llista.append(word)\n",
    "        \n",
    "    return dicc"
   ]
  },
  {
   "cell_type": "code",
   "execution_count": 9,
   "metadata": {},
   "outputs": [
    {
     "name": "stdout",
     "output_type": "stream",
     "text": [
      "11380\n"
     ]
    }
   ],
   "source": [
    "if __name__ == '__main__':\n",
    "    dicc_text = count_words(df_tweets_train)\n",
    "    print(len(dicc_text))"
   ]
  },
  {
   "cell_type": "markdown",
   "metadata": {},
   "source": [
    "Example:\n",
    "```python\n",
    "{\n",
    "    'badalona' : {'n_ocur': 88, 'n_tweets': 76},\n",
    "    'que': {'n_ocur': 123, 'n_tweets': 65},\n",
    "    ...\n",
    "}\n",
    "```"
   ]
  },
  {
   "cell_type": "markdown",
   "metadata": {},
   "source": [
    "Counting words per political party"
   ]
  },
  {
   "cell_type": "code",
   "execution_count": 10,
   "metadata": {},
   "outputs": [],
   "source": [
    "def count_words_parties(df):\n",
    "    \"\"\"\n",
    "    Funció que ha de construir un diccionari que conté la freqüència de les \n",
    "    paraules i el número de tweets on ha aparegut. \n",
    "    Aquesta informació ha de ser dividida pels diferents partits polítics. \n",
    "    \n",
    "    :param df: DataFrame amb els tweets i la informació associada\n",
    "    :return : Diccionari amb el format {Partit_Politic : {word : {n_ocur: valor, n_news: valor} } }\n",
    "    \"\"\"\n",
    "    dicc = {}\n",
    "    \n",
    "    for i in df['party'].unique():\n",
    "        a = df[df['party'] == i]\n",
    "        dicc[i] = count_words(a)\n",
    "        \n",
    "    return dicc"
   ]
  },
  {
   "cell_type": "code",
   "execution_count": 11,
   "metadata": {},
   "outputs": [
    {
     "name": "stdout",
     "output_type": "stream",
     "text": [
      "6\n"
     ]
    }
   ],
   "source": [
    "if __name__ == '__main__':\n",
    "    words_parties = count_words_parties(df_tweets_train)\n",
    "    print(len(words_parties))"
   ]
  },
  {
   "cell_type": "markdown",
   "metadata": {},
   "source": [
    "Example:\n",
    "```python\n",
    "{\n",
    "    'comuns': {\n",
    "        'badalona' : {'n_ocur': 88, 'n_tweets': 76},\n",
    "        'que': {'n_ocur': 123, 'n_tweets': 65}\n",
    "        ...\n",
    "    },\n",
    "    ...\n",
    "    'psc': {\n",
    "        'badalona' : {'n_ocur': 18, 'n_tweets': 17},\n",
    "        'que': {'n_ocur': 154, 'n_tweets': 66}\n",
    "    }\n",
    "    ...\n",
    "}\n",
    "```"
   ]
  },
  {
   "cell_type": "markdown",
   "metadata": {},
   "source": [
    "Most common words in tweets\n",
    "\n",
    "Choosing the features vector\n"
   ]
  },
  {
   "cell_type": "code",
   "execution_count": 12,
   "metadata": {},
   "outputs": [],
   "source": [
    "import operator\n",
    "def topNwords(df, words, N, skip=None):\n",
    "    \"\"\"\n",
    "    Dictionary with the N most common words for each political party\n",
    "\n",
    "    \"\"\"\n",
    "    #Calculating all the words in all the parties\n",
    "    def intersection(paraules): \n",
    "        setErc = set(paraules['erc'].keys())\n",
    "        setComuns = set(paraules['comuns'].keys())\n",
    "        setCs = set(paraules['cs'].keys())\n",
    "        setPsc = set(paraules['psc'].keys())\n",
    "        setPpc = set(paraules['ppc'].keys())\n",
    "        setJxcat = set(paraules['jxcat'].keys())\n",
    "        \n",
    "        #Intersection between parties\n",
    "        intersection = setErc.intersection(setComuns, setCs, setPsc, setPpc, setJxcat)\n",
    "        \n",
    "        #Adding the words that appear in 5 political parties\n",
    "        intersection.update(setErc.intersection(setComuns, setCs, setPsc, setPpc))\n",
    "        intersection.update(setErc.intersection(setComuns, setCs, setPsc, setJxcat))\n",
    "        intersection.update(setErc.intersection(setComuns, setCs, setPpc, setJxcat))\n",
    "        intersection.update(setErc.intersection(setComuns, setPsc, setPpc, setJxcat))\n",
    "        intersection.update(setErc.intersection(setCs, setPsc, setPpc, setJxcat))\n",
    "        intersection.update(setComuns.intersection(setCs, setPsc, setPpc, setJxcat))\n",
    "        \n",
    "        return intersection\n",
    "    \n",
    "    words_pp = count_words_parties(df)\n",
    "    interseccio = intersection(words_pp)\n",
    "    \n",
    "    #List of known words that we don't want\n",
    "    indesitjades = ['x', 'sense', 'q', 'dit', 'xq', 'pq', 'of', 'otro', 'the', 'muy', 'haber'\n",
    "                    , 'este', 'unas', 'ayer', 'for', 'and', 'teu', 'fins', 'haver', 'totes'\n",
    "                    , 'pels', 'teva', 'vostre', 'is', 'pas', 'heu', 'ben', 'sou', 'vostres'\n",
    "                    , 'haya', 'fem', 'este', 'estos', 'mientras', 'estar', 'tan', 'altra', \n",
    "                    'aquesta', 'vostra', 'unos', 'cuando', 'aquellos', 'ese', 'toda', 'unes'\n",
    "                    , 'altre', 'hace', 'esa', 'fue', 'sea', 'soy', 'mucho', 'sido']\n",
    "    \n",
    "    #Having the intersection, we delete the words that we don't want\n",
    "    nParaules = {}\n",
    "    for partit in words_pp:\n",
    "        words_pp[partit] = {k:v for k,v in words_pp[partit].items() if k not in interseccio\n",
    "                           and k not in indesitjades}\n",
    "        \n",
    "        #Sorting\n",
    "        words_pp[partit] = sorted(words_pp[partit].items(), key=lambda x: x[1]['n_ocur'], \n",
    "                                  reverse= True)\n",
    "        \n",
    "        #We take the first N words\n",
    "        primersNvals = words_pp[partit][:N]\n",
    "        \n",
    "        primersNvals = [x[0] for x in primersNvals]\n",
    "        \n",
    "        nParaules.update({partit : primersNvals})\n",
    "       \n",
    "    return nParaules"
   ]
  },
  {
   "cell_type": "code",
   "execution_count": 13,
   "metadata": {},
   "outputs": [],
   "source": [
    "if __name__ == '__main__':\n",
    "    top_words = topNwords(df_tweets_train, words_parties, 20)"
   ]
  },
  {
   "cell_type": "markdown",
   "metadata": {},
   "source": [
    "Example {political party : [common words]}\n",
    "```python\n",
    "{\n",
    "    'comuns': ['badalona', 'que',...],\n",
    "    ...\n",
    "    'psc': ['partit', 'barcelona',...]\n",
    "    ...\n",
    "}\n",
    "```"
   ]
  },
  {
   "cell_type": "markdown",
   "metadata": {},
   "source": [
    "Feature vector to train the Naïve Bayes\n"
   ]
  },
  {
   "cell_type": "code",
   "execution_count": 14,
   "metadata": {},
   "outputs": [],
   "source": [
    "def create_features(df, top_words): \n",
    "\n",
    "    topNwords = set(item for k,v in top_words.items() for item in v)\n",
    "    topNwords = list(topNwords)\n",
    "    \n",
    "    features = {}\n",
    "\n",
    "    for i,v in df.iterrows():\n",
    "        paraules = v['text'].split(\" \")\n",
    "        llista = [0]*len(topNwords)\n",
    "        \n",
    "        for j in range(len(paraules)):\n",
    "            paraules[j] = normalize(paraules[j])\n",
    "            \n",
    "        for word in range(len(topNwords)):\n",
    "            if topNwords[word] in paraules:\n",
    "                llista[word] = 1\n",
    "            \n",
    "        features.update({i:np.asarray(llista)})\n",
    "\n",
    "    return pd.DataFrame(features).T"
   ]
  },
  {
   "cell_type": "code",
   "execution_count": 25,
   "metadata": {},
   "outputs": [],
   "source": [
    "if __name__ == '__main__':\n",
    "    N = 20 # Aquest paràmetre el podem canviar i fer proves per avaluar quin és el millor valor. \n",
    "    words_parties = count_words_parties(df_tweets_train)\n",
    "    top_words = topNwords(df_tweets_train, words_parties, N)\n",
    "    dict_feat_vector = create_features(df_tweets_train, top_words)"
   ]
  },
  {
   "cell_type": "markdown",
   "metadata": {},
   "source": [
    "Example:\n",
    "```python\n",
    "{\n",
    "    0: np.array([0, 1, 1, 0, ...]),\n",
    "    1: np.array([0, 1, 1, 1, ...]),\n",
    "    ...\n",
    "}\n",
    "```"
   ]
  },
  {
   "cell_type": "markdown",
   "metadata": {},
   "source": [
    "Naïve Bayes classifier\n",
    "\n"
   ]
  },
  {
   "cell_type": "code",
   "execution_count": 21,
   "metadata": {},
   "outputs": [],
   "source": [
    "def naive_bayes_learn(df, feats):\n",
    "    \"\"\"\n",
    "    For each political party we compute $p(x_i|C) = (A + 1) / (B + M)$\n",
    "\n",
    "\n",
    "    C each political party\n",
    "    A number of tweets from C where 'x_i' appears\n",
    "    B total number of tweets from C\n",
    "    M Number or catefories\n",
    "    \"\"\"\n",
    "    diccionari = {}\n",
    "    words_parties = count_words_parties(df)\n",
    "    \n",
    "    M = len(df['party'].unique())\n",
    "    \n",
    "    topNwords = set(item for k,v in top_words.items() for item in v)\n",
    "    topNwords = list(topNwords)\n",
    "    \n",
    "    for partit in df['party'].unique():\n",
    "        tuits_partit = feats[df['party'] == partit]\n",
    "        B = len(tuits_partit)\n",
    "        A = (tuits_partit.sum(axis=0)+1)/(B+M)\n",
    "        diccionari.update({partit: A})\n",
    "            \n",
    "    return diccionari"
   ]
  },
  {
   "cell_type": "code",
   "execution_count": 22,
   "metadata": {},
   "outputs": [],
   "source": [
    "def split_train_test(df, split):\n",
    "    \"\"\"\n",
    "    Separates learning and testing data\n",
    "    \"\"\"\n",
    "    assert split <= 1, 'Split must be between 0 and 1'\n",
    "    msk = np.random.rand(len(df)) < split\n",
    "    train = df[msk]\n",
    "    test = df[~msk]\n",
    "    \n",
    "    return train,test"
   ]
  },
  {
   "cell_type": "code",
   "execution_count": 54,
   "metadata": {},
   "outputs": [],
   "source": [
    "import sys\n",
    "\n",
    "def naive_bayes(df_train, feat_train, feat_test, df_test=None):\n",
    "    \"\"\"\n",
    "    Implementation of Naive Bayes, first we train and then we use the probabilities \n",
    "    to classify the test vectors using the forumla\n",
    "\n",
    "    p(C_j|x) = p(C_j) * p(x_1|C_j) * ... * p(x_n|C_j)\n",
    "\n",
    "    and choosing the max.\n",
    "    \n",
    "    Careful with underflow:\n",
    "    log(p(C_j|x)) = log(p(C_j) * p(x_1|C_j) * ... * p(x_n|C_j)) =\n",
    "                  = log(P(C_j)) + log(p(x_1|C_j)) + ... + log(p(x_n|C_j))\n",
    "                  \n",
    "    \"\"\"\n",
    "    probabilitats = naive_bayes_learn(df_train, feat_train)\n",
    "    l = {}\n",
    "    encert = 0\n",
    "    \n",
    "    for i,feat in feat_test.iterrows():\n",
    "        test = (1-feat)\n",
    "        deduccio = []\n",
    "        for k,v in probabilitats.items():\n",
    "            prob = (1-v)\n",
    "            final = np.sum(np.log((test * prob) + (feat * v)))            \n",
    "            deduccio.append((final,k))\n",
    "\n",
    "        deduccio.sort(key = lambda x:x[0])\n",
    "        \n",
    "        l[i] = max(deduccio,key = lambda x:x[0])[1]\n",
    "\n",
    "    return pd.Series(l)"
   ]
  },
  {
   "cell_type": "code",
   "execution_count": 60,
   "metadata": {},
   "outputs": [],
   "source": [
    "if __name__ == '__main__':\n",
    "    df_train, df_test = split_train_test(df_tweets_train, 0.8)\n",
    "    \n",
    "    N = 5000 \n",
    "    words_topics = count_words_parties(df_train)\n",
    "    top_words = topNwords(df_train, words_topics, N)\n",
    "    \n",
    "    feat_train = create_features(df_train, top_words)\n",
    "    feat_test = create_features(df_test, top_words)\n",
    "        \n",
    "    naive_bayes(df_train, feat_train, feat_test, df_test)"
   ]
  },
  {
   "cell_type": "code",
   "execution_count": 59,
   "metadata": {},
   "outputs": [
    {
     "data": {
      "text/html": [
       "<table border=\"1\" class=\"dataframe\">\n",
       "  <thead>\n",
       "    <tr style=\"text-align: right;\">\n",
       "      <th></th>\n",
       "      <th>party</th>\n",
       "    </tr>\n",
       "    <tr>\n",
       "      <th>tweet_id</th>\n",
       "      <th></th>\n",
       "    </tr>\n",
       "  </thead>\n",
       "  <tbody>\n",
       "    <tr>\n",
       "      <th>0</th>\n",
       "      <td>comuns</td>\n",
       "    </tr>\n",
       "    <tr>\n",
       "      <th>1</th>\n",
       "      <td>cs</td>\n",
       "    </tr>\n",
       "    <tr>\n",
       "      <th>2</th>\n",
       "      <td>comuns</td>\n",
       "    </tr>\n",
       "    <tr>\n",
       "      <th>3</th>\n",
       "      <td>jxcat</td>\n",
       "    </tr>\n",
       "    <tr>\n",
       "      <th>4</th>\n",
       "      <td>erc</td>\n",
       "    </tr>\n",
       "  </tbody>\n",
       "</table>"
      ],
      "text/plain": [
       "<IPython.core.display.HTML object>"
      ]
     },
     "metadata": {},
     "output_type": "display_data"
    }
   ],
   "source": [
    "if __name__ == '__main__': \n",
    "    words_topics = count_words_parties(df_tweets_train)\n",
    "    top_words = topNwords(df_tweets_train, words_topics, N)\n",
    "    \n",
    "    feat_train = create_features(df_tweets_train, top_words)\n",
    "    feat_test = create_features(df_tweets_test, top_words)\n",
    "    \n",
    "    result = naive_bayes(df_tweets_train, feat_train, feat_test)\n",
    "    result.index.name = 'tweet_id'\n",
    "    result.name = 'party'\n",
    "    result.to_frame().to_csv('submission.csv')\n",
    "    pprint(result.head())"
   ]
  }
 ],
 "metadata": {
  "kernelspec": {
   "display_name": "Python 3",
   "language": "python",
   "name": "python3"
  },
  "language_info": {
   "codemirror_mode": {
    "name": "ipython",
    "version": 3
   },
   "file_extension": ".py",
   "mimetype": "text/x-python",
   "name": "python",
   "nbconvert_exporter": "python",
   "pygments_lexer": "ipython3",
   "version": "3.6.5"
  }
 },
 "nbformat": 4,
 "nbformat_minor": 2
}
